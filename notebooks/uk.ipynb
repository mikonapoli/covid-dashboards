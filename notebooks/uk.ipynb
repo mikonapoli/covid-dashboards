{
 "cells": [
  {
   "cell_type": "code",
   "execution_count": 63,
   "metadata": {},
   "outputs": [],
   "source": [
    "import pandas as pd\n",
    "import matplotlib.pyplot as plt\n",
    "import requests as req\n",
    "import tempfile as tmpf\n",
    "import numpy as np"
   ]
  },
  {
   "cell_type": "code",
   "execution_count": 61,
   "metadata": {},
   "outputs": [],
   "source": [
    "%matplotlib widget"
   ]
  },
  {
   "cell_type": "code",
   "execution_count": 5,
   "metadata": {},
   "outputs": [],
   "source": [
    "uk_url = 'https://api.coronavirus.data.gov.uk/v1/data?filters=areaName=United%2520Kingdom;areaType=overview&structure=%7B%22areaType%22:%22areaType%22,%22areaName%22:%22areaName%22,%22areaCode%22:%22areaCode%22,%22date%22:%22date%22,%22newCasesByPublishDate%22:%22newCasesByPublishDate%22,%22cumCasesByPublishDate%22:%22cumCasesByPublishDate%22%7D&format=csv'\n"
   ]
  },
  {
   "cell_type": "code",
   "execution_count": 38,
   "metadata": {},
   "outputs": [],
   "source": [
    "with tmpf.NamedTemporaryFile(mode='w') as f:\n",
    "    response = req.get(uk_url)\n",
    "    f.write(response.text)\n",
    "    data = pd.read_csv(f.name, parse_dates=['date'])\n",
    "\n",
    "data = data.loc[:, ['date',  'newCasesByPublishDate']].sort_values('date', ascending=True)\n",
    "data['daily_cases_mean'] = data.newCasesByPublishDate.rolling(7).mean()\n",
    "data['increase'] = data.newCasesByPublishDate.pct_change()\n",
    "data = data.set_index('date').sort_index().loc['2020-03-05':]\n"
   ]
  },
  {
   "cell_type": "code",
   "execution_count": 148,
   "metadata": {},
   "outputs": [
    {
     "data": {
      "application/vnd.jupyter.widget-view+json": {
       "model_id": "37311ec611db467c8b8101ba1d5a77a2",
       "version_major": 2,
       "version_minor": 0
      },
      "text/plain": [
       "Canvas(toolbar=Toolbar(toolitems=[('Home', 'Reset original view', 'home', 'home'), ('Back', 'Back to previous …"
      ]
     },
     "metadata": {},
     "output_type": "display_data"
    },
    {
     "data": {
      "text/plain": [
       "<matplotlib.legend.Legend at 0x7f5ef129e1f0>"
      ]
     },
     "execution_count": 148,
     "metadata": {},
     "output_type": "execute_result"
    }
   ],
   "source": [
    "plt.style.use('seaborn')\n",
    "fig, ax = plt.subplots(figsize=(9, 6))\n",
    "fig.canvas.toolbar_visible = False\n",
    "fig.canvas.header_visible = False \n",
    "fig.canvas.footer_visible = False\n",
    "fig.canvas.resizable = True\n",
    "fig.canvas.capture_scroll = True\n",
    "fig.canvas.toolbar_visible = True\n",
    "data.daily_cases_mean.pct_change().rolling(7).mean().plot(ax=ax, label='Daily percentage increase (7 days avg)');\n",
    "plt.axhline(0, color='red', label='Linear growth');\n",
    "plt.axhline(0.1, color='red', linestyle=':', label='7 days doubling rate');\n",
    "plt.legend();"
   ]
  },
  {
   "cell_type": "code",
   "execution_count": 145,
   "metadata": {},
   "outputs": [
    {
     "data": {
      "application/vnd.jupyter.widget-view+json": {
       "model_id": "a8c1e660694d44b58ea674dd0320729a",
       "version_major": 2,
       "version_minor": 0
      },
      "text/plain": [
       "Canvas(toolbar=Toolbar(toolitems=[('Home', 'Reset original view', 'home', 'home'), ('Back', 'Back to previous …"
      ]
     },
     "metadata": {},
     "output_type": "display_data"
    }
   ],
   "source": [
    "fig, ax = plt.subplots(figsize=(9, 5))\n",
    "ax.set_title('Daily new cases')\n",
    "fig.canvas.toolbar_visible = False\n",
    "fig.canvas.header_visible = False \n",
    "fig.canvas.footer_visible = False\n",
    "fig.canvas.resizable = True\n",
    "fig.canvas.capture_scroll = True\n",
    "fig.canvas.toolbar_visible = True\n",
    "ax.bar(x=data.index, height='newCasesByPublishDate', data=data)\n",
    "ax.plot('daily_cases_mean', data=data, c='red', label='7 day rolling average');\n",
    "plt.legend();"
   ]
  },
  {
   "cell_type": "code",
   "execution_count": 114,
   "metadata": {},
   "outputs": [
    {
     "data": {
      "text/html": [
       "<div>\n",
       "<style scoped>\n",
       "    .dataframe tbody tr th:only-of-type {\n",
       "        vertical-align: middle;\n",
       "    }\n",
       "\n",
       "    .dataframe tbody tr th {\n",
       "        vertical-align: top;\n",
       "    }\n",
       "\n",
       "    .dataframe thead th {\n",
       "        text-align: right;\n",
       "    }\n",
       "</style>\n",
       "<table border=\"1\" class=\"dataframe\">\n",
       "  <thead>\n",
       "    <tr style=\"text-align: right;\">\n",
       "      <th></th>\n",
       "      <th>newCasesByPublishDate</th>\n",
       "      <th>daily_cases_mean</th>\n",
       "      <th>increase</th>\n",
       "    </tr>\n",
       "    <tr>\n",
       "      <th>date</th>\n",
       "      <th></th>\n",
       "      <th></th>\n",
       "      <th></th>\n",
       "    </tr>\n",
       "  </thead>\n",
       "  <tbody>\n",
       "    <tr>\n",
       "      <th>2020-09-03</th>\n",
       "      <td>1735</td>\n",
       "      <td>1434.714286</td>\n",
       "      <td>0.150531</td>\n",
       "    </tr>\n",
       "    <tr>\n",
       "      <th>2020-09-04</th>\n",
       "      <td>1940</td>\n",
       "      <td>1529.571429</td>\n",
       "      <td>0.118156</td>\n",
       "    </tr>\n",
       "    <tr>\n",
       "      <th>2020-09-05</th>\n",
       "      <td>1813</td>\n",
       "      <td>1630.285714</td>\n",
       "      <td>-0.065464</td>\n",
       "    </tr>\n",
       "    <tr>\n",
       "      <th>2020-09-06</th>\n",
       "      <td>2988</td>\n",
       "      <td>1812.142857</td>\n",
       "      <td>0.648097</td>\n",
       "    </tr>\n",
       "    <tr>\n",
       "      <th>2020-09-07</th>\n",
       "      <td>2948</td>\n",
       "      <td>2032.428571</td>\n",
       "      <td>-0.013387</td>\n",
       "    </tr>\n",
       "    <tr>\n",
       "      <th>2020-09-08</th>\n",
       "      <td>2460</td>\n",
       "      <td>2198.857143</td>\n",
       "      <td>-0.165536</td>\n",
       "    </tr>\n",
       "    <tr>\n",
       "      <th>2020-09-09</th>\n",
       "      <td>2659</td>\n",
       "      <td>2363.285714</td>\n",
       "      <td>0.080894</td>\n",
       "    </tr>\n",
       "    <tr>\n",
       "      <th>2020-09-10</th>\n",
       "      <td>2919</td>\n",
       "      <td>2532.428571</td>\n",
       "      <td>0.097781</td>\n",
       "    </tr>\n",
       "    <tr>\n",
       "      <th>2020-09-11</th>\n",
       "      <td>3539</td>\n",
       "      <td>2760.857143</td>\n",
       "      <td>0.212402</td>\n",
       "    </tr>\n",
       "    <tr>\n",
       "      <th>2020-09-12</th>\n",
       "      <td>3497</td>\n",
       "      <td>3001.428571</td>\n",
       "      <td>-0.011868</td>\n",
       "    </tr>\n",
       "    <tr>\n",
       "      <th>2020-09-13</th>\n",
       "      <td>3330</td>\n",
       "      <td>3050.285714</td>\n",
       "      <td>-0.047755</td>\n",
       "    </tr>\n",
       "    <tr>\n",
       "      <th>2020-09-14</th>\n",
       "      <td>2621</td>\n",
       "      <td>3003.571429</td>\n",
       "      <td>-0.212913</td>\n",
       "    </tr>\n",
       "    <tr>\n",
       "      <th>2020-09-15</th>\n",
       "      <td>3105</td>\n",
       "      <td>3095.714286</td>\n",
       "      <td>0.184662</td>\n",
       "    </tr>\n",
       "    <tr>\n",
       "      <th>2020-09-16</th>\n",
       "      <td>3991</td>\n",
       "      <td>3286.000000</td>\n",
       "      <td>0.285346</td>\n",
       "    </tr>\n",
       "  </tbody>\n",
       "</table>\n",
       "</div>"
      ],
      "text/plain": [
       "            newCasesByPublishDate  daily_cases_mean  increase\n",
       "date                                                         \n",
       "2020-09-03                   1735       1434.714286  0.150531\n",
       "2020-09-04                   1940       1529.571429  0.118156\n",
       "2020-09-05                   1813       1630.285714 -0.065464\n",
       "2020-09-06                   2988       1812.142857  0.648097\n",
       "2020-09-07                   2948       2032.428571 -0.013387\n",
       "2020-09-08                   2460       2198.857143 -0.165536\n",
       "2020-09-09                   2659       2363.285714  0.080894\n",
       "2020-09-10                   2919       2532.428571  0.097781\n",
       "2020-09-11                   3539       2760.857143  0.212402\n",
       "2020-09-12                   3497       3001.428571 -0.011868\n",
       "2020-09-13                   3330       3050.285714 -0.047755\n",
       "2020-09-14                   2621       3003.571429 -0.212913\n",
       "2020-09-15                   3105       3095.714286  0.184662\n",
       "2020-09-16                   3991       3286.000000  0.285346"
      ]
     },
     "execution_count": 114,
     "metadata": {},
     "output_type": "execute_result"
    }
   ],
   "source": [
    "data.tail(14)"
   ]
  },
  {
   "cell_type": "code",
   "execution_count": null,
   "metadata": {},
   "outputs": [],
   "source": []
  }
 ],
 "metadata": {
  "kernelspec": {
   "display_name": "Python 3",
   "language": "python",
   "name": "python3"
  },
  "language_info": {
   "codemirror_mode": {
    "name": "ipython",
    "version": 3
   },
   "file_extension": ".py",
   "mimetype": "text/x-python",
   "name": "python",
   "nbconvert_exporter": "python",
   "pygments_lexer": "ipython3",
   "version": "3.8.5"
  }
 },
 "nbformat": 4,
 "nbformat_minor": 4
}
